{
  "nbformat": 4,
  "nbformat_minor": 0,
  "metadata": {
    "colab": {
      "name": "SerieTemporal_aula2_bitcoin.ipynb",
      "provenance": []
    },
    "kernelspec": {
      "name": "python3",
      "display_name": "Python 3"
    },
    "language_info": {
      "name": "python"
    }
  },
  "cells": [
    {
      "cell_type": "markdown",
      "metadata": {
        "id": "fdRmsfbwesop"
      },
      "source": [
        "Séries Temporais - demonstração do funcionamento com dados do Bitcoin"
      ]
    },
    {
      "cell_type": "code",
      "metadata": {
        "id": "EA0-CwnlbstK"
      },
      "source": [
        "# Exemplo de série temporal com Python. \n",
        "#importando o Pandas, o IO para leitura do arquivo e a biblioteca datetime\n",
        "# os dados do bitcoin foram obtidos em: https://coinmarketcap.com/\n",
        "\n",
        "import pandas as pd\n",
        "import io\n",
        "from datetime import datetime"
      ],
      "execution_count": null,
      "outputs": []
    },
    {
      "cell_type": "code",
      "metadata": {
        "colab": {
          "resources": {
            "http://localhost:8080/nbextensions/google.colab/files.js": {
              "data": "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",
              "ok": true,
              "headers": [
                [
                  "content-type",
                  "application/javascript"
                ]
              ],
              "status": 200,
              "status_text": ""
            }
          },
          "base_uri": "https://localhost:8080/",
          "height": 72
        },
        "id": "LRPLmWX7e-Mn",
        "outputId": "b00bdd1a-6803-4de7-fb8e-78172bc71036"
      },
      "source": [
        "# carregando dados para o Google Colab\n",
        "from google.colab import files\n",
        "uploaded = files.upload()"
      ],
      "execution_count": null,
      "outputs": [
        {
          "output_type": "display_data",
          "data": {
            "text/html": [
              "\n",
              "     <input type=\"file\" id=\"files-8dba56a1-9d44-4056-85f9-25feb7a6ff24\" name=\"files[]\" multiple disabled\n",
              "        style=\"border:none\" />\n",
              "     <output id=\"result-8dba56a1-9d44-4056-85f9-25feb7a6ff24\">\n",
              "      Upload widget is only available when the cell has been executed in the\n",
              "      current browser session. Please rerun this cell to enable.\n",
              "      </output>\n",
              "      <script src=\"/nbextensions/google.colab/files.js\"></script> "
            ],
            "text/plain": [
              "<IPython.core.display.HTML object>"
            ]
          },
          "metadata": {}
        },
        {
          "output_type": "stream",
          "name": "stdout",
          "text": [
            "Saving ST-aula2-bitcoin.csv to ST-aula2-bitcoin (4).csv\n"
          ]
        }
      ]
    },
    {
      "cell_type": "code",
      "metadata": {
        "id": "Jj6B41I53Mni"
      },
      "source": [
        "# carregando o arquivo para o dataframe bitcoin\n",
        "bitcoin = pd.read_csv(io.BytesIO(uploaded['ST-aula2-bitcoin.csv']))"
      ],
      "execution_count": null,
      "outputs": []
    },
    {
      "cell_type": "code",
      "metadata": {
        "colab": {
          "base_uri": "https://localhost:8080/",
          "height": 204
        },
        "id": "vtr9nAyo3nS1",
        "outputId": "82b99752-e206-4818-b359-a048e9ebed17"
      },
      "source": [
        "# visualizar os dados carregados\n",
        "bitcoin.head()"
      ],
      "execution_count": null,
      "outputs": [
        {
          "output_type": "execute_result",
          "data": {
            "text/html": [
              "<div>\n",
              "<style scoped>\n",
              "    .dataframe tbody tr th:only-of-type {\n",
              "        vertical-align: middle;\n",
              "    }\n",
              "\n",
              "    .dataframe tbody tr th {\n",
              "        vertical-align: top;\n",
              "    }\n",
              "\n",
              "    .dataframe thead th {\n",
              "        text-align: right;\n",
              "    }\n",
              "</style>\n",
              "<table border=\"1\" class=\"dataframe\">\n",
              "  <thead>\n",
              "    <tr style=\"text-align: right;\">\n",
              "      <th></th>\n",
              "      <th>Date</th>\n",
              "      <th>Open</th>\n",
              "      <th>High</th>\n",
              "      <th>Low</th>\n",
              "      <th>Close</th>\n",
              "      <th>Volume</th>\n",
              "      <th>Market Cap</th>\n",
              "    </tr>\n",
              "  </thead>\n",
              "  <tbody>\n",
              "    <tr>\n",
              "      <th>0</th>\n",
              "      <td>Sep 30, 2021</td>\n",
              "      <td>41551.27</td>\n",
              "      <td>44092.60</td>\n",
              "      <td>41444.58</td>\n",
              "      <td>43790.90</td>\n",
              "      <td>31141681925</td>\n",
              "      <td>824619217608</td>\n",
              "    </tr>\n",
              "    <tr>\n",
              "      <th>1</th>\n",
              "      <td>Sep 29, 2021</td>\n",
              "      <td>41064.98</td>\n",
              "      <td>42545.26</td>\n",
              "      <td>40829.67</td>\n",
              "      <td>41564.36</td>\n",
              "      <td>30602359905</td>\n",
              "      <td>782651228474</td>\n",
              "    </tr>\n",
              "    <tr>\n",
              "      <th>2</th>\n",
              "      <td>Sep 28, 2021</td>\n",
              "      <td>42200.90</td>\n",
              "      <td>42775.15</td>\n",
              "      <td>40931.66</td>\n",
              "      <td>41034.54</td>\n",
              "      <td>30214940550</td>\n",
              "      <td>772639687709</td>\n",
              "    </tr>\n",
              "    <tr>\n",
              "      <th>3</th>\n",
              "      <td>Sep 27, 2021</td>\n",
              "      <td>43234.18</td>\n",
              "      <td>44313.25</td>\n",
              "      <td>42190.63</td>\n",
              "      <td>42235.73</td>\n",
              "      <td>30980029059</td>\n",
              "      <td>795216175345</td>\n",
              "    </tr>\n",
              "    <tr>\n",
              "      <th>4</th>\n",
              "      <td>Sep 26, 2021</td>\n",
              "      <td>42721.63</td>\n",
              "      <td>43919.30</td>\n",
              "      <td>40848.46</td>\n",
              "      <td>43208.54</td>\n",
              "      <td>30661222077</td>\n",
              "      <td>813490665613</td>\n",
              "    </tr>\n",
              "  </tbody>\n",
              "</table>\n",
              "</div>"
            ],
            "text/plain": [
              "           Date      Open      High  ...     Close       Volume    Market Cap\n",
              "0  Sep 30, 2021  41551.27  44092.60  ...  43790.90  31141681925  824619217608\n",
              "1  Sep 29, 2021  41064.98  42545.26  ...  41564.36  30602359905  782651228474\n",
              "2  Sep 28, 2021  42200.90  42775.15  ...  41034.54  30214940550  772639687709\n",
              "3  Sep 27, 2021  43234.18  44313.25  ...  42235.73  30980029059  795216175345\n",
              "4  Sep 26, 2021  42721.63  43919.30  ...  43208.54  30661222077  813490665613\n",
              "\n",
              "[5 rows x 7 columns]"
            ]
          },
          "metadata": {},
          "execution_count": 45
        }
      ]
    },
    {
      "cell_type": "markdown",
      "metadata": {
        "id": "JKIAsyb1seZa"
      },
      "source": [
        "Cada coluna do arquivo bitcoin.csv significa o seguinte:\n",
        "\n",
        "**Date:** informa o dia em que os dados foram registrados\n",
        "\n",
        "**Open**: valor de abertura do bitcoin considerando 12:01 AM UTC\n",
        "\n",
        "**High**: valor máximo obtido pelo bitcoin no dia\n",
        "\n",
        "**Low**: valor mínimo obtido pelo bitcoin no dia\n",
        "\n",
        "**Close**: valor de fechamento do bitcoin considerando 11:59 PM UTC\n",
        "\n",
        "**Volume**: volume de bitcoins negociados no dia\n",
        "\n",
        "**Market Cap**: valor total de todas as ações de uma empresa, é a capitalização de mercado"
      ]
    },
    {
      "cell_type": "code",
      "metadata": {
        "colab": {
          "base_uri": "https://localhost:8080/"
        },
        "id": "W-vBzq0MUfAv",
        "outputId": "6ce82112-8f36-426a-84d8-646272bd1b5b"
      },
      "source": [
        "# identificar o tamanho da base de dados\n",
        "bitcoin.shape"
      ],
      "execution_count": null,
      "outputs": [
        {
          "output_type": "execute_result",
          "data": {
            "text/plain": [
              "(638, 7)"
            ]
          },
          "metadata": {},
          "execution_count": 46
        }
      ]
    },
    {
      "cell_type": "code",
      "metadata": {
        "colab": {
          "base_uri": "https://localhost:8080/"
        },
        "id": "xm3nqZvWrhYq",
        "outputId": "93844bc5-3703-4c9c-bc91-0a41361b468b"
      },
      "source": [
        "# verificar o tipo dos dados da variável Date\n",
        "type(bitcoin.loc[0]['Date'])"
      ],
      "execution_count": null,
      "outputs": [
        {
          "output_type": "execute_result",
          "data": {
            "text/plain": [
              "str"
            ]
          },
          "metadata": {},
          "execution_count": 47
        }
      ]
    },
    {
      "cell_type": "code",
      "metadata": {
        "colab": {
          "base_uri": "https://localhost:8080/"
        },
        "id": "1Nkgb9GrrzD2",
        "outputId": "01a13a93-bd44-4a13-c789-ab361a916d54"
      },
      "source": [
        "# convertendo o campo date para ser do tipo datetime\n",
        "bitcoin['Date'] = pd.to_datetime(bitcoin['Date'])\n",
        "\n",
        "# verificando a conversão, deve aparecer: pandas._libs.tslibs.timestamps.Timestamp\n",
        "type(bitcoin.loc[0]['Date'])"
      ],
      "execution_count": null,
      "outputs": [
        {
          "output_type": "execute_result",
          "data": {
            "text/plain": [
              "pandas._libs.tslibs.timestamps.Timestamp"
            ]
          },
          "metadata": {},
          "execution_count": 48
        }
      ]
    },
    {
      "cell_type": "code",
      "metadata": {
        "colab": {
          "base_uri": "https://localhost:8080/",
          "height": 204
        },
        "id": "Ucsv_ZM7sNif",
        "outputId": "41a131ad-c8fc-442c-87b8-521c168e2352"
      },
      "source": [
        "# visualizar os dados carregados para verificar a mudança\n",
        "bitcoin.head()"
      ],
      "execution_count": null,
      "outputs": [
        {
          "output_type": "execute_result",
          "data": {
            "text/html": [
              "<div>\n",
              "<style scoped>\n",
              "    .dataframe tbody tr th:only-of-type {\n",
              "        vertical-align: middle;\n",
              "    }\n",
              "\n",
              "    .dataframe tbody tr th {\n",
              "        vertical-align: top;\n",
              "    }\n",
              "\n",
              "    .dataframe thead th {\n",
              "        text-align: right;\n",
              "    }\n",
              "</style>\n",
              "<table border=\"1\" class=\"dataframe\">\n",
              "  <thead>\n",
              "    <tr style=\"text-align: right;\">\n",
              "      <th></th>\n",
              "      <th>Date</th>\n",
              "      <th>Open</th>\n",
              "      <th>High</th>\n",
              "      <th>Low</th>\n",
              "      <th>Close</th>\n",
              "      <th>Volume</th>\n",
              "      <th>Market Cap</th>\n",
              "    </tr>\n",
              "  </thead>\n",
              "  <tbody>\n",
              "    <tr>\n",
              "      <th>0</th>\n",
              "      <td>2021-09-30</td>\n",
              "      <td>41551.27</td>\n",
              "      <td>44092.60</td>\n",
              "      <td>41444.58</td>\n",
              "      <td>43790.90</td>\n",
              "      <td>31141681925</td>\n",
              "      <td>824619217608</td>\n",
              "    </tr>\n",
              "    <tr>\n",
              "      <th>1</th>\n",
              "      <td>2021-09-29</td>\n",
              "      <td>41064.98</td>\n",
              "      <td>42545.26</td>\n",
              "      <td>40829.67</td>\n",
              "      <td>41564.36</td>\n",
              "      <td>30602359905</td>\n",
              "      <td>782651228474</td>\n",
              "    </tr>\n",
              "    <tr>\n",
              "      <th>2</th>\n",
              "      <td>2021-09-28</td>\n",
              "      <td>42200.90</td>\n",
              "      <td>42775.15</td>\n",
              "      <td>40931.66</td>\n",
              "      <td>41034.54</td>\n",
              "      <td>30214940550</td>\n",
              "      <td>772639687709</td>\n",
              "    </tr>\n",
              "    <tr>\n",
              "      <th>3</th>\n",
              "      <td>2021-09-27</td>\n",
              "      <td>43234.18</td>\n",
              "      <td>44313.25</td>\n",
              "      <td>42190.63</td>\n",
              "      <td>42235.73</td>\n",
              "      <td>30980029059</td>\n",
              "      <td>795216175345</td>\n",
              "    </tr>\n",
              "    <tr>\n",
              "      <th>4</th>\n",
              "      <td>2021-09-26</td>\n",
              "      <td>42721.63</td>\n",
              "      <td>43919.30</td>\n",
              "      <td>40848.46</td>\n",
              "      <td>43208.54</td>\n",
              "      <td>30661222077</td>\n",
              "      <td>813490665613</td>\n",
              "    </tr>\n",
              "  </tbody>\n",
              "</table>\n",
              "</div>"
            ],
            "text/plain": [
              "        Date      Open      High       Low     Close       Volume    Market Cap\n",
              "0 2021-09-30  41551.27  44092.60  41444.58  43790.90  31141681925  824619217608\n",
              "1 2021-09-29  41064.98  42545.26  40829.67  41564.36  30602359905  782651228474\n",
              "2 2021-09-28  42200.90  42775.15  40931.66  41034.54  30214940550  772639687709\n",
              "3 2021-09-27  43234.18  44313.25  42190.63  42235.73  30980029059  795216175345\n",
              "4 2021-09-26  42721.63  43919.30  40848.46  43208.54  30661222077  813490665613"
            ]
          },
          "metadata": {},
          "execution_count": 49
        }
      ]
    },
    {
      "cell_type": "code",
      "metadata": {
        "colab": {
          "base_uri": "https://localhost:8080/",
          "height": 35
        },
        "id": "ScoADyLluuXk",
        "outputId": "02790466-44d2-4c24-c58c-7a6ade67b830"
      },
      "source": [
        "# acessando a primeira linha do dataframe bitcoin e identificando qual foi o dia da semana\n",
        "# o comando day_name tem esta função\n",
        "\n",
        "bitcoin.loc[0]['Date'].day_name()"
      ],
      "execution_count": null,
      "outputs": [
        {
          "output_type": "execute_result",
          "data": {
            "application/vnd.google.colaboratory.intrinsic+json": {
              "type": "string"
            },
            "text/plain": [
              "'Thursday'"
            ]
          },
          "metadata": {},
          "execution_count": 50
        }
      ]
    },
    {
      "cell_type": "code",
      "metadata": {
        "id": "Pa4Wsm9QvWv6"
      },
      "source": [
        "# adicionaremos o dia da semana no nosso dataframe\n",
        "bitcoin['Week Day'] = bitcoin['Date'].dt.day_name()"
      ],
      "execution_count": null,
      "outputs": []
    },
    {
      "cell_type": "code",
      "metadata": {
        "colab": {
          "base_uri": "https://localhost:8080/",
          "height": 204
        },
        "id": "s-SV9sFhvhIw",
        "outputId": "aeddb5b9-2c3e-4ab4-fe05-1e6fdba39bc5"
      },
      "source": [
        "# visualizar os dados carregados para verificar a mudança\n",
        "bitcoin.head()"
      ],
      "execution_count": null,
      "outputs": [
        {
          "output_type": "execute_result",
          "data": {
            "text/html": [
              "<div>\n",
              "<style scoped>\n",
              "    .dataframe tbody tr th:only-of-type {\n",
              "        vertical-align: middle;\n",
              "    }\n",
              "\n",
              "    .dataframe tbody tr th {\n",
              "        vertical-align: top;\n",
              "    }\n",
              "\n",
              "    .dataframe thead th {\n",
              "        text-align: right;\n",
              "    }\n",
              "</style>\n",
              "<table border=\"1\" class=\"dataframe\">\n",
              "  <thead>\n",
              "    <tr style=\"text-align: right;\">\n",
              "      <th></th>\n",
              "      <th>Date</th>\n",
              "      <th>Open</th>\n",
              "      <th>High</th>\n",
              "      <th>Low</th>\n",
              "      <th>Close</th>\n",
              "      <th>Volume</th>\n",
              "      <th>Market Cap</th>\n",
              "      <th>Week Day</th>\n",
              "    </tr>\n",
              "  </thead>\n",
              "  <tbody>\n",
              "    <tr>\n",
              "      <th>0</th>\n",
              "      <td>2021-09-30</td>\n",
              "      <td>41551.27</td>\n",
              "      <td>44092.60</td>\n",
              "      <td>41444.58</td>\n",
              "      <td>43790.90</td>\n",
              "      <td>31141681925</td>\n",
              "      <td>824619217608</td>\n",
              "      <td>Thursday</td>\n",
              "    </tr>\n",
              "    <tr>\n",
              "      <th>1</th>\n",
              "      <td>2021-09-29</td>\n",
              "      <td>41064.98</td>\n",
              "      <td>42545.26</td>\n",
              "      <td>40829.67</td>\n",
              "      <td>41564.36</td>\n",
              "      <td>30602359905</td>\n",
              "      <td>782651228474</td>\n",
              "      <td>Wednesday</td>\n",
              "    </tr>\n",
              "    <tr>\n",
              "      <th>2</th>\n",
              "      <td>2021-09-28</td>\n",
              "      <td>42200.90</td>\n",
              "      <td>42775.15</td>\n",
              "      <td>40931.66</td>\n",
              "      <td>41034.54</td>\n",
              "      <td>30214940550</td>\n",
              "      <td>772639687709</td>\n",
              "      <td>Tuesday</td>\n",
              "    </tr>\n",
              "    <tr>\n",
              "      <th>3</th>\n",
              "      <td>2021-09-27</td>\n",
              "      <td>43234.18</td>\n",
              "      <td>44313.25</td>\n",
              "      <td>42190.63</td>\n",
              "      <td>42235.73</td>\n",
              "      <td>30980029059</td>\n",
              "      <td>795216175345</td>\n",
              "      <td>Monday</td>\n",
              "    </tr>\n",
              "    <tr>\n",
              "      <th>4</th>\n",
              "      <td>2021-09-26</td>\n",
              "      <td>42721.63</td>\n",
              "      <td>43919.30</td>\n",
              "      <td>40848.46</td>\n",
              "      <td>43208.54</td>\n",
              "      <td>30661222077</td>\n",
              "      <td>813490665613</td>\n",
              "      <td>Sunday</td>\n",
              "    </tr>\n",
              "  </tbody>\n",
              "</table>\n",
              "</div>"
            ],
            "text/plain": [
              "        Date      Open      High  ...       Volume    Market Cap   Week Day\n",
              "0 2021-09-30  41551.27  44092.60  ...  31141681925  824619217608   Thursday\n",
              "1 2021-09-29  41064.98  42545.26  ...  30602359905  782651228474  Wednesday\n",
              "2 2021-09-28  42200.90  42775.15  ...  30214940550  772639687709    Tuesday\n",
              "3 2021-09-27  43234.18  44313.25  ...  30980029059  795216175345     Monday\n",
              "4 2021-09-26  42721.63  43919.30  ...  30661222077  813490665613     Sunday\n",
              "\n",
              "[5 rows x 8 columns]"
            ]
          },
          "metadata": {},
          "execution_count": 52
        }
      ]
    },
    {
      "cell_type": "code",
      "metadata": {
        "colab": {
          "base_uri": "https://localhost:8080/"
        },
        "id": "aV-wrQKIvsTD",
        "outputId": "cc9634fb-af56-40f6-bafb-14723e16ef85"
      },
      "source": [
        "# em uma série histórica é importante conehcer a abrangência da série. \n",
        "# para isto vamos localizar a data mais antiga da série utilizando o comando:\n",
        "\n",
        "bitcoin['Date'].min()"
      ],
      "execution_count": null,
      "outputs": [
        {
          "output_type": "execute_result",
          "data": {
            "text/plain": [
              "Timestamp('2020-01-02 00:00:00')"
            ]
          },
          "metadata": {},
          "execution_count": 53
        }
      ]
    },
    {
      "cell_type": "code",
      "metadata": {
        "colab": {
          "base_uri": "https://localhost:8080/"
        },
        "id": "WNUII2bIwBeX",
        "outputId": "cc9eff9c-8223-4c24-843c-16817f60ecf3"
      },
      "source": [
        "# para localizar a data máxima do período devemos utilizar o comando:\n",
        "\n",
        "bitcoin['Date'].max()"
      ],
      "execution_count": null,
      "outputs": [
        {
          "output_type": "execute_result",
          "data": {
            "text/plain": [
              "Timestamp('2021-09-30 00:00:00')"
            ]
          },
          "metadata": {},
          "execution_count": 54
        }
      ]
    },
    {
      "cell_type": "code",
      "metadata": {
        "colab": {
          "base_uri": "https://localhost:8080/"
        },
        "id": "ROjeEfllwSpq",
        "outputId": "486bfb9f-5ed3-4ec9-e105-84c16a2c0871"
      },
      "source": [
        "# para obter o intervalo de tempo basta subtrair a data mais antiga da data mais recente:\n",
        "\n",
        "bitcoin['Date'].max() - bitcoin['Date'].min()"
      ],
      "execution_count": null,
      "outputs": [
        {
          "output_type": "execute_result",
          "data": {
            "text/plain": [
              "Timedelta('637 days 00:00:00')"
            ]
          },
          "metadata": {},
          "execution_count": 55
        }
      ]
    },
    {
      "cell_type": "code",
      "metadata": {
        "colab": {
          "base_uri": "https://localhost:8080/",
          "height": 204
        },
        "id": "CnaAfpjPwjBR",
        "outputId": "0d2e4be2-a378-4350-e423-a980d243b5d5"
      },
      "source": [
        "# para selecionar períodos específicos da série temporal podemos utilizar janelas de tempo nos períodos selecionados\n",
        "# vamos tratar a série considerando o período iniciando a partir do mês de Abril:\n",
        "\n",
        "janela = (bitcoin['Date'] >= 'April 2020')\n",
        "bitcoin.loc[janela].head()"
      ],
      "execution_count": null,
      "outputs": [
        {
          "output_type": "execute_result",
          "data": {
            "text/html": [
              "<div>\n",
              "<style scoped>\n",
              "    .dataframe tbody tr th:only-of-type {\n",
              "        vertical-align: middle;\n",
              "    }\n",
              "\n",
              "    .dataframe tbody tr th {\n",
              "        vertical-align: top;\n",
              "    }\n",
              "\n",
              "    .dataframe thead th {\n",
              "        text-align: right;\n",
              "    }\n",
              "</style>\n",
              "<table border=\"1\" class=\"dataframe\">\n",
              "  <thead>\n",
              "    <tr style=\"text-align: right;\">\n",
              "      <th></th>\n",
              "      <th>Date</th>\n",
              "      <th>Open</th>\n",
              "      <th>High</th>\n",
              "      <th>Low</th>\n",
              "      <th>Close</th>\n",
              "      <th>Volume</th>\n",
              "      <th>Market Cap</th>\n",
              "      <th>Week Day</th>\n",
              "    </tr>\n",
              "  </thead>\n",
              "  <tbody>\n",
              "    <tr>\n",
              "      <th>0</th>\n",
              "      <td>2021-09-30</td>\n",
              "      <td>41551.27</td>\n",
              "      <td>44092.60</td>\n",
              "      <td>41444.58</td>\n",
              "      <td>43790.90</td>\n",
              "      <td>31141681925</td>\n",
              "      <td>824619217608</td>\n",
              "      <td>Thursday</td>\n",
              "    </tr>\n",
              "    <tr>\n",
              "      <th>1</th>\n",
              "      <td>2021-09-29</td>\n",
              "      <td>41064.98</td>\n",
              "      <td>42545.26</td>\n",
              "      <td>40829.67</td>\n",
              "      <td>41564.36</td>\n",
              "      <td>30602359905</td>\n",
              "      <td>782651228474</td>\n",
              "      <td>Wednesday</td>\n",
              "    </tr>\n",
              "    <tr>\n",
              "      <th>2</th>\n",
              "      <td>2021-09-28</td>\n",
              "      <td>42200.90</td>\n",
              "      <td>42775.15</td>\n",
              "      <td>40931.66</td>\n",
              "      <td>41034.54</td>\n",
              "      <td>30214940550</td>\n",
              "      <td>772639687709</td>\n",
              "      <td>Tuesday</td>\n",
              "    </tr>\n",
              "    <tr>\n",
              "      <th>3</th>\n",
              "      <td>2021-09-27</td>\n",
              "      <td>43234.18</td>\n",
              "      <td>44313.25</td>\n",
              "      <td>42190.63</td>\n",
              "      <td>42235.73</td>\n",
              "      <td>30980029059</td>\n",
              "      <td>795216175345</td>\n",
              "      <td>Monday</td>\n",
              "    </tr>\n",
              "    <tr>\n",
              "      <th>4</th>\n",
              "      <td>2021-09-26</td>\n",
              "      <td>42721.63</td>\n",
              "      <td>43919.30</td>\n",
              "      <td>40848.46</td>\n",
              "      <td>43208.54</td>\n",
              "      <td>30661222077</td>\n",
              "      <td>813490665613</td>\n",
              "      <td>Sunday</td>\n",
              "    </tr>\n",
              "  </tbody>\n",
              "</table>\n",
              "</div>"
            ],
            "text/plain": [
              "        Date      Open      High  ...       Volume    Market Cap   Week Day\n",
              "0 2021-09-30  41551.27  44092.60  ...  31141681925  824619217608   Thursday\n",
              "1 2021-09-29  41064.98  42545.26  ...  30602359905  782651228474  Wednesday\n",
              "2 2021-09-28  42200.90  42775.15  ...  30214940550  772639687709    Tuesday\n",
              "3 2021-09-27  43234.18  44313.25  ...  30980029059  795216175345     Monday\n",
              "4 2021-09-26  42721.63  43919.30  ...  30661222077  813490665613     Sunday\n",
              "\n",
              "[5 rows x 8 columns]"
            ]
          },
          "metadata": {},
          "execution_count": 56
        }
      ]
    },
    {
      "cell_type": "code",
      "metadata": {
        "colab": {
          "base_uri": "https://localhost:8080/",
          "height": 204
        },
        "id": "FOiw0YPhy6Qg",
        "outputId": "e2b2018c-4e65-4ef9-c7d7-867bd2f7e140"
      },
      "source": [
        "# podemos ter janelas com períodos mais bem definidos, possibilitando gerar análises mais direcionadas\n",
        "# vamos criar uma janela considerando o mês de fevereiro: \n",
        "\n",
        "# criando a janela de tempo:\n",
        "janela2020 = (bitcoin['Date'] >= datetime(2020, 1, 1)) & (bitcoin['Date'] <= datetime(2020, 12, 31))\n",
        "\n",
        "# visualizando o resultado:\n",
        "bitcoin.loc[janela2020].head()"
      ],
      "execution_count": null,
      "outputs": [
        {
          "output_type": "execute_result",
          "data": {
            "text/html": [
              "<div>\n",
              "<style scoped>\n",
              "    .dataframe tbody tr th:only-of-type {\n",
              "        vertical-align: middle;\n",
              "    }\n",
              "\n",
              "    .dataframe tbody tr th {\n",
              "        vertical-align: top;\n",
              "    }\n",
              "\n",
              "    .dataframe thead th {\n",
              "        text-align: right;\n",
              "    }\n",
              "</style>\n",
              "<table border=\"1\" class=\"dataframe\">\n",
              "  <thead>\n",
              "    <tr style=\"text-align: right;\">\n",
              "      <th></th>\n",
              "      <th>Date</th>\n",
              "      <th>Open</th>\n",
              "      <th>High</th>\n",
              "      <th>Low</th>\n",
              "      <th>Close</th>\n",
              "      <th>Volume</th>\n",
              "      <th>Market Cap</th>\n",
              "      <th>Week Day</th>\n",
              "    </tr>\n",
              "  </thead>\n",
              "  <tbody>\n",
              "    <tr>\n",
              "      <th>273</th>\n",
              "      <td>2020-12-31</td>\n",
              "      <td>28841.57</td>\n",
              "      <td>29244.88</td>\n",
              "      <td>28201.99</td>\n",
              "      <td>29001.72</td>\n",
              "      <td>46754964848</td>\n",
              "      <td>539051138108</td>\n",
              "      <td>Thursday</td>\n",
              "    </tr>\n",
              "    <tr>\n",
              "      <th>274</th>\n",
              "      <td>2020-12-30</td>\n",
              "      <td>27360.09</td>\n",
              "      <td>28937.74</td>\n",
              "      <td>27360.09</td>\n",
              "      <td>28840.95</td>\n",
              "      <td>51287442704</td>\n",
              "      <td>536033807161</td>\n",
              "      <td>Wednesday</td>\n",
              "    </tr>\n",
              "    <tr>\n",
              "      <th>275</th>\n",
              "      <td>2020-12-29</td>\n",
              "      <td>27081.81</td>\n",
              "      <td>27370.72</td>\n",
              "      <td>25987.30</td>\n",
              "      <td>27362.44</td>\n",
              "      <td>45265946774</td>\n",
              "      <td>508523687097</td>\n",
              "      <td>Tuesday</td>\n",
              "    </tr>\n",
              "    <tr>\n",
              "      <th>276</th>\n",
              "      <td>2020-12-28</td>\n",
              "      <td>26280.82</td>\n",
              "      <td>27389.11</td>\n",
              "      <td>26207.64</td>\n",
              "      <td>27084.81</td>\n",
              "      <td>49056742893</td>\n",
              "      <td>503339329917</td>\n",
              "      <td>Monday</td>\n",
              "    </tr>\n",
              "    <tr>\n",
              "      <th>277</th>\n",
              "      <td>2020-12-27</td>\n",
              "      <td>26439.37</td>\n",
              "      <td>28288.84</td>\n",
              "      <td>25922.77</td>\n",
              "      <td>26272.29</td>\n",
              "      <td>66479895605</td>\n",
              "      <td>488213268382</td>\n",
              "      <td>Sunday</td>\n",
              "    </tr>\n",
              "  </tbody>\n",
              "</table>\n",
              "</div>"
            ],
            "text/plain": [
              "          Date      Open      High  ...       Volume    Market Cap   Week Day\n",
              "273 2020-12-31  28841.57  29244.88  ...  46754964848  539051138108   Thursday\n",
              "274 2020-12-30  27360.09  28937.74  ...  51287442704  536033807161  Wednesday\n",
              "275 2020-12-29  27081.81  27370.72  ...  45265946774  508523687097    Tuesday\n",
              "276 2020-12-28  26280.82  27389.11  ...  49056742893  503339329917     Monday\n",
              "277 2020-12-27  26439.37  28288.84  ...  66479895605  488213268382     Sunday\n",
              "\n",
              "[5 rows x 8 columns]"
            ]
          },
          "metadata": {},
          "execution_count": 59
        }
      ]
    },
    {
      "cell_type": "code",
      "metadata": {
        "id": "iYhk3yCXzhT5"
      },
      "source": [
        "# ajustando o índice do DataFrame para que seja considerado a coluna Date\n",
        "# para isto devemos utilizar o método set_index()\n",
        "\n",
        "bitcoin.set_index('Date', inplace=True)"
      ],
      "execution_count": null,
      "outputs": []
    },
    {
      "cell_type": "code",
      "metadata": {
        "colab": {
          "base_uri": "https://localhost:8080/",
          "height": 235
        },
        "id": "O4Rbt8bIzvAS",
        "outputId": "0eb81abb-d7fc-442f-82f8-6ccd8f84db7f"
      },
      "source": [
        "# tornando a coluna Date como índice possibilita fazer consultas de forma mais simplificada na série temporal, sem precisar criar janelas\n",
        "# como exemplo listaremos os registros referentes a janeiro\n",
        "\n",
        "bitcoin['January 2020'].head()"
      ],
      "execution_count": null,
      "outputs": [
        {
          "output_type": "execute_result",
          "data": {
            "text/html": [
              "<div>\n",
              "<style scoped>\n",
              "    .dataframe tbody tr th:only-of-type {\n",
              "        vertical-align: middle;\n",
              "    }\n",
              "\n",
              "    .dataframe tbody tr th {\n",
              "        vertical-align: top;\n",
              "    }\n",
              "\n",
              "    .dataframe thead th {\n",
              "        text-align: right;\n",
              "    }\n",
              "</style>\n",
              "<table border=\"1\" class=\"dataframe\">\n",
              "  <thead>\n",
              "    <tr style=\"text-align: right;\">\n",
              "      <th></th>\n",
              "      <th>Open</th>\n",
              "      <th>High</th>\n",
              "      <th>Low</th>\n",
              "      <th>Close</th>\n",
              "      <th>Volume</th>\n",
              "      <th>Market Cap</th>\n",
              "      <th>Week Day</th>\n",
              "    </tr>\n",
              "    <tr>\n",
              "      <th>Date</th>\n",
              "      <th></th>\n",
              "      <th></th>\n",
              "      <th></th>\n",
              "      <th></th>\n",
              "      <th></th>\n",
              "      <th></th>\n",
              "      <th></th>\n",
              "    </tr>\n",
              "  </thead>\n",
              "  <tbody>\n",
              "    <tr>\n",
              "      <th>2020-01-31</th>\n",
              "      <td>9508.31</td>\n",
              "      <td>9521.71</td>\n",
              "      <td>9230.78</td>\n",
              "      <td>9350.53</td>\n",
              "      <td>29432489719</td>\n",
              "      <td>170112778161</td>\n",
              "      <td>Friday</td>\n",
              "    </tr>\n",
              "    <tr>\n",
              "      <th>2020-01-30</th>\n",
              "      <td>9316.02</td>\n",
              "      <td>9553.13</td>\n",
              "      <td>9230.90</td>\n",
              "      <td>9508.99</td>\n",
              "      <td>32378792851</td>\n",
              "      <td>172978577931</td>\n",
              "      <td>Thursday</td>\n",
              "    </tr>\n",
              "    <tr>\n",
              "      <th>2020-01-29</th>\n",
              "      <td>9357.47</td>\n",
              "      <td>9406.43</td>\n",
              "      <td>9269.47</td>\n",
              "      <td>9316.63</td>\n",
              "      <td>30682598115</td>\n",
              "      <td>169460984603</td>\n",
              "      <td>Wednesday</td>\n",
              "    </tr>\n",
              "    <tr>\n",
              "      <th>2020-01-28</th>\n",
              "      <td>8912.52</td>\n",
              "      <td>9358.59</td>\n",
              "      <td>8908.45</td>\n",
              "      <td>9358.59</td>\n",
              "      <td>34398744403</td>\n",
              "      <td>170205617955</td>\n",
              "      <td>Tuesday</td>\n",
              "    </tr>\n",
              "    <tr>\n",
              "      <th>2020-01-27</th>\n",
              "      <td>8597.31</td>\n",
              "      <td>8977.73</td>\n",
              "      <td>8597.31</td>\n",
              "      <td>8909.82</td>\n",
              "      <td>28647338393</td>\n",
              "      <td>162027957435</td>\n",
              "      <td>Monday</td>\n",
              "    </tr>\n",
              "  </tbody>\n",
              "</table>\n",
              "</div>"
            ],
            "text/plain": [
              "               Open     High      Low  ...       Volume    Market Cap   Week Day\n",
              "Date                                   ...                                      \n",
              "2020-01-31  9508.31  9521.71  9230.78  ...  29432489719  170112778161     Friday\n",
              "2020-01-30  9316.02  9553.13  9230.90  ...  32378792851  172978577931   Thursday\n",
              "2020-01-29  9357.47  9406.43  9269.47  ...  30682598115  169460984603  Wednesday\n",
              "2020-01-28  8912.52  9358.59  8908.45  ...  34398744403  170205617955    Tuesday\n",
              "2020-01-27  8597.31  8977.73  8597.31  ...  28647338393  162027957435     Monday\n",
              "\n",
              "[5 rows x 7 columns]"
            ]
          },
          "metadata": {},
          "execution_count": 61
        }
      ]
    },
    {
      "cell_type": "code",
      "metadata": {
        "colab": {
          "base_uri": "https://localhost:8080/"
        },
        "id": "UnXQpB190W7R",
        "outputId": "250fd83c-f929-472f-c44c-b9545b17867a"
      },
      "source": [
        "# podemos utilizar funções para realizar análises\n",
        "# por exemplo obter a média dos valores de uma coluna em um determinado intervalo de tempo\n",
        "# para exemplificar vamos obter a média do fechamento (Close) para o mês de Janeiro e Fevereiro:\n",
        "\n",
        "bitcoin['2020-02':'2020-01']['Close'].mean()"
      ],
      "execution_count": null,
      "outputs": [
        {
          "output_type": "execute_result",
          "data": {
            "text/plain": [
              "9019.629491525422"
            ]
          },
          "metadata": {},
          "execution_count": 62
        }
      ]
    },
    {
      "cell_type": "code",
      "metadata": {
        "colab": {
          "base_uri": "https://localhost:8080/"
        },
        "id": "_Wf1S39q1Ib6",
        "outputId": "90ced555-c38d-4f2e-d593-709959f69abd"
      },
      "source": [
        "# outro exemplo é obtendo o valor máximo obtido pelo bitcoin nos 10 primeiros dias de janeiro:\n",
        "\n",
        "bitcoin['2020-01-10':'2020-01-01']['High'].max()"
      ],
      "execution_count": null,
      "outputs": [
        {
          "output_type": "execute_result",
          "data": {
            "text/plain": [
              "8396.74"
            ]
          },
          "metadata": {},
          "execution_count": 63
        }
      ]
    },
    {
      "cell_type": "code",
      "metadata": {
        "colab": {
          "base_uri": "https://localhost:8080/",
          "height": 450
        },
        "id": "DjcL9aa345ub",
        "outputId": "812eb870-44f8-41f3-fd6a-0d34a2728158"
      },
      "source": [
        "# na série temporal podemos precisar fazer análises considerando diversas colunas e trabalhando com períodos pré definidos\n",
        "# por exemplo analisando os dados semanalmente\n",
        "# normalmente não realizamos o mesmo tipo de análise nas colunas utilizadas, podemos ter uma análise diferente para cada informação\n",
        "# por exemplo obter valor máximo semanal (High), o valor mínimo semanal (Low) e a média do valor de fechamento (Close)\n",
        "\n",
        "# a função a ser utilizada é a resample(), que realiza uma reamostragem dos dados de séries temporais\n",
        "# somado com a função agg(), que consegue agregar várias operações em colunas definidas\n",
        "# assim podemos realizar agregações como sum(), mean(), median(), min() e max()\n",
        "\n",
        "bitcoin.resample('W').agg({'Close': 'mean', 'High': 'max', 'Low': 'min'})\n"
      ],
      "execution_count": null,
      "outputs": [
        {
          "output_type": "execute_result",
          "data": {
            "text/html": [
              "<div>\n",
              "<style scoped>\n",
              "    .dataframe tbody tr th:only-of-type {\n",
              "        vertical-align: middle;\n",
              "    }\n",
              "\n",
              "    .dataframe tbody tr th {\n",
              "        vertical-align: top;\n",
              "    }\n",
              "\n",
              "    .dataframe thead th {\n",
              "        text-align: right;\n",
              "    }\n",
              "</style>\n",
              "<table border=\"1\" class=\"dataframe\">\n",
              "  <thead>\n",
              "    <tr style=\"text-align: right;\">\n",
              "      <th></th>\n",
              "      <th>Close</th>\n",
              "      <th>High</th>\n",
              "      <th>Low</th>\n",
              "    </tr>\n",
              "    <tr>\n",
              "      <th>Date</th>\n",
              "      <th></th>\n",
              "      <th></th>\n",
              "      <th></th>\n",
              "    </tr>\n",
              "  </thead>\n",
              "  <tbody>\n",
              "    <tr>\n",
              "      <th>2020-01-05</th>\n",
              "      <td>7288.082500</td>\n",
              "      <td>7544.50</td>\n",
              "      <td>6915.00</td>\n",
              "    </tr>\n",
              "    <tr>\n",
              "      <th>2020-01-12</th>\n",
              "      <td>8041.202857</td>\n",
              "      <td>8396.74</td>\n",
              "      <td>7409.29</td>\n",
              "    </tr>\n",
              "    <tr>\n",
              "      <th>2020-01-19</th>\n",
              "      <td>8725.835714</td>\n",
              "      <td>9164.36</td>\n",
              "      <td>8079.70</td>\n",
              "    </tr>\n",
              "    <tr>\n",
              "      <th>2020-01-26</th>\n",
              "      <td>8557.291429</td>\n",
              "      <td>8792.99</td>\n",
              "      <td>8266.84</td>\n",
              "    </tr>\n",
              "    <tr>\n",
              "      <th>2020-02-02</th>\n",
              "      <td>9311.687143</td>\n",
              "      <td>9553.13</td>\n",
              "      <td>8597.31</td>\n",
              "    </tr>\n",
              "    <tr>\n",
              "      <th>...</th>\n",
              "      <td>...</td>\n",
              "      <td>...</td>\n",
              "      <td>...</td>\n",
              "    </tr>\n",
              "    <tr>\n",
              "      <th>2021-09-05</th>\n",
              "      <td>49159.975714</td>\n",
              "      <td>51868.68</td>\n",
              "      <td>46562.44</td>\n",
              "    </tr>\n",
              "    <tr>\n",
              "      <th>2021-09-12</th>\n",
              "      <td>46868.017143</td>\n",
              "      <td>52853.76</td>\n",
              "      <td>43285.21</td>\n",
              "    </tr>\n",
              "    <tr>\n",
              "      <th>2021-09-19</th>\n",
              "      <td>47260.195714</td>\n",
              "      <td>48791.78</td>\n",
              "      <td>43591.32</td>\n",
              "    </tr>\n",
              "    <tr>\n",
              "      <th>2021-09-26</th>\n",
              "      <td>42967.424286</td>\n",
              "      <td>47328.20</td>\n",
              "      <td>39787.61</td>\n",
              "    </tr>\n",
              "    <tr>\n",
              "      <th>2021-10-03</th>\n",
              "      <td>42156.382500</td>\n",
              "      <td>44313.25</td>\n",
              "      <td>40829.67</td>\n",
              "    </tr>\n",
              "  </tbody>\n",
              "</table>\n",
              "<p>92 rows × 3 columns</p>\n",
              "</div>"
            ],
            "text/plain": [
              "                   Close      High       Low\n",
              "Date                                        \n",
              "2020-01-05   7288.082500   7544.50   6915.00\n",
              "2020-01-12   8041.202857   8396.74   7409.29\n",
              "2020-01-19   8725.835714   9164.36   8079.70\n",
              "2020-01-26   8557.291429   8792.99   8266.84\n",
              "2020-02-02   9311.687143   9553.13   8597.31\n",
              "...                  ...       ...       ...\n",
              "2021-09-05  49159.975714  51868.68  46562.44\n",
              "2021-09-12  46868.017143  52853.76  43285.21\n",
              "2021-09-19  47260.195714  48791.78  43591.32\n",
              "2021-09-26  42967.424286  47328.20  39787.61\n",
              "2021-10-03  42156.382500  44313.25  40829.67\n",
              "\n",
              "[92 rows x 3 columns]"
            ]
          },
          "metadata": {},
          "execution_count": 64
        }
      ]
    },
    {
      "cell_type": "code",
      "metadata": {
        "colab": {
          "base_uri": "https://localhost:8080/",
          "height": 417
        },
        "id": "ZBElIBTg1Tcj",
        "outputId": "34dd9b59-bede-4cc8-d191-b3f48dfee97d"
      },
      "source": [
        "# o estudo das séries temporais utiliza muitos gráficos\n",
        "# como exemplo vamos utilizar um gráfico de linha projetando as variações do valor de abertura diário (Open)\n",
        "\n",
        "bitcoin['Open'].plot(figsize=(8,6), grid=True, c='k', linewidth=3)"
      ],
      "execution_count": null,
      "outputs": [
        {
          "output_type": "execute_result",
          "data": {
            "text/plain": [
              "<matplotlib.axes._subplots.AxesSubplot at 0x7f5d1bd2de50>"
            ]
          },
          "metadata": {},
          "execution_count": 65
        },
        {
          "output_type": "display_data",
          "data": {
            "image/png": "[encoded data removed]",
            "text/plain": [
              "<Figure size 576x432 with 1 Axes>"
            ]
          },
          "metadata": {
            "needs_background": "light"
          }
        }
      ]
    },
    {
      "cell_type": "code",
      "metadata": {
        "colab": {
          "base_uri": "https://localhost:8080/",
          "height": 428
        },
        "id": "Z8e_1pNf2f90",
        "outputId": "2e72739d-854d-41e7-d876-9d3586b7cff2"
      },
      "source": [
        "# vamos projetar as variações do volume diário (Volume)\n",
        "\n",
        "bitcoin['Volume'].plot(figsize=(8,6), grid=True, c='g', linewidth=3)"
      ],
      "execution_count": null,
      "outputs": [
        {
          "output_type": "execute_result",
          "data": {
            "text/plain": [
              "<matplotlib.axes._subplots.AxesSubplot at 0x7f5d1bc0a850>"
            ]
          },
          "metadata": {},
          "execution_count": 67
        },
        {
          "output_type": "display_data",
          "data": {
            "image/png": "[encoded data removed]",
            "text/plain": [
              "<Figure size 576x432 with 1 Axes>"
            ]
          },
          "metadata": {
            "needs_background": "light"
          }
        }
      ]
    }
  ]
}